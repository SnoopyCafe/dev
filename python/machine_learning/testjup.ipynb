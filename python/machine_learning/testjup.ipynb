{
 "cells": [
  {
   "cell_type": "code",
   "execution_count": 6,
   "metadata": {
    "collapsed": false
   },
   "outputs": [
    {
     "name": "stdout",
     "output_type": "stream",
     "text": [
      "[('student1', 80), ('student2', 75), ('student3', 65), ('student4', 87), ('student5', 100)] \n\n"
     ]
    }
   ],
   "source": [
    "import pandas as pd\n",
    "\n",
    "names = ['student1','student2','student3','student4','student5']\n",
    "grades_pct = [80,75,65,87,100]\n",
    "\n",
    "studentDataset = list(zip(names,grades_pct))\n",
    "\n",
    "print (studentDataset, \"\\n\")"
   ]
  },
  {
   "cell_type": "code",
   "execution_count": 4,
   "metadata": {
    "collapsed": false
   },
   "outputs": [
    {
     "name": "stdout",
     "output_type": "stream",
     "text": [
      "      Names  grades_pct\n0  student1          80\n1  student2          75\n2  student3          65\n3  student4          87\n4  student5         100 \n\n"
     ]
    }
   ],
   "source": [
    "# Data Frame\n",
    "df = pd.DataFrame(data=studentDataset, columns=['Names','grades_pct'])\n",
    "print (df, \"\\n\")\n",
    "\n",
    "# Export to CSV\n",
    "# path = 'student_data.csv'\n",
    "# df.to_csv(path)"
   ]
  },
  {
   "cell_type": "code",
   "execution_count": 8,
   "metadata": {
    "collapsed": false
   },
   "outputs": [
    {
     "name": "stdout",
     "output_type": "stream",
     "text": [
      "      Names  grades_pct\n",
      "2  student3          65\n",
      "1  student2          75\n",
      "0  student1          80\n",
      "3  student4          87\n",
      "4  student5          92 \n",
      "\n"
     ]
    }
   ],
   "source": [
    "# Sorting\n",
    "print (df.sort_values(['grades_pct'],ascending=True), \"\\n\")"
   ]
  },
  {
   "cell_type": "code",
   "execution_count": 7,
   "metadata": {
    "collapsed": false
   },
   "outputs": [
    {
     "name": "stdout",
     "output_type": "stream",
     "text": [
      "       grades_pct\n",
      "count    5.000000\n",
      "mean    79.800000\n",
      "std     10.521407\n",
      "min     65.000000\n",
      "25%     75.000000\n",
      "50%     80.000000\n",
      "75%     87.000000\n",
      "max     92.000000\n"
     ]
    }
   ],
   "source": [
    "# Dataset stats\n",
    "print (df.describe())"
   ]
  },
  {
   "cell_type": "code",
   "execution_count": null,
   "metadata": {
    "collapsed": true
   },
   "outputs": [],
   "source": [
    ""
   ]
  }
 ],
 "metadata": {
  "kernelspec": {
   "display_name": "Python 3",
   "language": "python",
   "name": "python3"
  },
  "language_info": {
   "codemirror_mode": {
    "name": "ipython",
    "version": 3.0
   },
   "file_extension": ".py",
   "mimetype": "text/x-python",
   "name": "python",
   "nbconvert_exporter": "python",
   "pygments_lexer": "ipython3",
   "version": "3.5.2"
  }
 },
 "nbformat": 4,
 "nbformat_minor": 0
}